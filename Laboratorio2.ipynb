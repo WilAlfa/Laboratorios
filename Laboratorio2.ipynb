{
  "nbformat": 4,
  "nbformat_minor": 0,
  "metadata": {
    "colab": {
      "name": "Untitled1.ipynb",
      "provenance": [],
      "collapsed_sections": [],
      "authorship_tag": "ABX9TyN5RQd51yuG0KWRqAoh0nCM",
      "include_colab_link": true
    },
    "kernelspec": {
      "name": "python3",
      "display_name": "Python 3"
    },
    "language_info": {
      "name": "python"
    }
  },
  "cells": [
    {
      "cell_type": "markdown",
      "metadata": {
        "id": "view-in-github",
        "colab_type": "text"
      },
      "source": [
        "<a href=\"https://colab.research.google.com/github/WilAlfa/Laboratorios/blob/main/Laboratorio2.ipynb\" target=\"_parent\"><img src=\"https://colab.research.google.com/assets/colab-badge.svg\" alt=\"Open In Colab\"/></a>"
      ]
    },
    {
      "cell_type": "code",
      "source": [
        "def convertir (seg):\n",
        "  minutos, segundos =divmod(seg,60)\n",
        "  horas, minutos = divmod(minutos, 60)\n",
        "  return horas, minutos, segundos\n",
        "\n",
        "try:\n",
        "  seg = int(input(\"Ingrese cantidad de segundos a convertir: \"))\n",
        "\n",
        "  hr, min, sec = convertir(seg)\n",
        "  print(\"HORAS:\",hr,'\\n',\"MINUTOS:\",min,'\\n',\"SEGUNDOS:\",sec,'\\n' )\n",
        "  print(\"HORAS: {} \\nMINUTOS: {} \\nSEGUNDOS: {} \\n\".format(hr, min, sec))\n",
        "  print(\"HORAS:%d: \\nMINUTOS:%02d: \\nSEGUNDOS: %02d\" % (hr, min, sec))\n",
        "except (ValueError):\n",
        "  print(\"Segundos ingresados deben ser numéricos\")"
      ],
      "metadata": {
        "colab": {
          "base_uri": "https://localhost:8080/"
        },
        "id": "sIZ69b7x3qRd",
        "outputId": "76756466-3fd0-4f91-ffbb-5082458fa72d"
      },
      "execution_count": null,
      "outputs": [
        {
          "output_type": "stream",
          "name": "stdout",
          "text": [
            "Ingrese cantidad de segundos a convertir: 1200\n",
            "HORAS: 0 \n",
            " MINUTOS: 20 \n",
            " SEGUNDOS: 0 \n",
            "\n",
            "HORAS: 0 \n",
            "MINUTOS: 20 \n",
            "SEGUNDOS: 0 \n",
            "\n",
            "HORAS:0: \n",
            "MINUTOS:20: \n",
            "SEGUNDOS: 00\n"
          ]
        }
      ]
    },
    {
      "cell_type": "code",
      "source": [
        "try:\n",
        "  Nota = int(input(\"Ingrese Nota del curso: \"))\n",
        "  if (Nota >=0) and (Nota <=100):\n",
        "    if (Nota > 90) and (Nota <= 100): \n",
        "        print (\"SOBRESALIENTE\")\n",
        "    elif (Nota > 70) and (Nota <= 90):\n",
        "        print (\"MUY BIEN\")   \n",
        "    else:\n",
        "      if Nota < 50: \n",
        "        print(\"INSUFICIENTE\") \n",
        "      elif (Nota >= 50) and (Nota <= 60):\n",
        "        print (\"REGULAR\")\n",
        "      elif (Nota > 60) and (Nota <=70):\n",
        "        print (\"BIEN\")\n",
        "\n",
        "    if (Nota < 71):\n",
        "      print (\"La diferencia para ganar es: \", 71- Nota )\n",
        "    else:\n",
        "      print (\"La nota obtenida es: \", Nota)  \n",
        "  else:\n",
        "    print(\"Nota no puede ser mayor que 100 ni menor que 0\")\n",
        " \n",
        "except(ValueError):\n",
        "    print(\"La nota es de tipo numérico\")\n",
        " "
      ],
      "metadata": {
        "id": "4n0ReQ2sDUi4",
        "colab": {
          "base_uri": "https://localhost:8080/"
        },
        "outputId": "6eddc757-4d74-4209-a67f-9330a4e4d989"
      },
      "execution_count": null,
      "outputs": [
        {
          "output_type": "stream",
          "name": "stdout",
          "text": [
            "Ingrese Nota del curso: 90\n",
            "MUY BIEN\n",
            "La nota obtenida es:  90\n"
          ]
        }
      ]
    },
    {
      "cell_type": "code",
      "source": [
        "try:\n",
        "  N1 = int(input(\"Ingrese Numero 1 (mayor): \"))\n",
        "  N2 = int(input(\"Ingrese Numero 2 (menor): \"))\n",
        "# nums = [N1:N2] \n",
        "\n",
        "  if (N1 > N2):\n",
        "    Total = 0\n",
        "    Suma = 0\n",
        "    Op = \"\"\n",
        "    for i in range(N1, N2-1, -1):\n",
        "      Total = Total + i\n",
        "      if i > N2:\n",
        "        Op = Op + str(i) + \" + \"\n",
        "      else: \n",
        "        Op = Op + str(i) + \" = \"\n",
        "\n",
        "    print(Op + str(Total))     \n",
        "\n",
        "  else: \n",
        "    print(\"OJO: EL PRIMER NUMERO DEBE SER MAYOR QUE EL SEGUNDO...\")\n",
        "\n",
        "except(ValueError):\n",
        "    print(\"El dato debe ser de tipo numérico\")"
      ],
      "metadata": {
        "colab": {
          "base_uri": "https://localhost:8080/"
        },
        "id": "nBXlpq4dMTHe",
        "outputId": "171292d4-3271-4b8a-efeb-f5da4268f303"
      },
      "execution_count": null,
      "outputs": [
        {
          "output_type": "stream",
          "name": "stdout",
          "text": [
            "Ingrese Numero 1 (mayor): 9\n",
            "Ingrese Numero 2 (menor): 5\n",
            "9 + 8 + 7 + 6 + 5 = 35\n"
          ]
        }
      ]
    },
    {
      "cell_type": "code",
      "source": [
        "def imprimir_factores_primos(numero):\n",
        "  # Comience con dos, que es el primer primo\n",
        "  factor = 1\n",
        "  Op = \"Factores: {\"\n",
        "  # Continúe hasta que el factor sea mayor que el número\n",
        "  while factor <= numero:\n",
        "  # Verificar si el factor es un divisor de número\n",
        "      if (numero % factor == 0):\n",
        "          if factor < numero:\n",
        "            Op = Op + str(factor) + \",\"\n",
        "          else:\n",
        "            Op = Op + str(factor) + \"}\" \n",
        "      factor +=  1\n",
        "  return Op\n",
        "try:\n",
        "  n=int(input(\"Ingrese un número (>0): \"))\n",
        "  if n <= 1:\n",
        "      print(\"Debe ingresar un número mayor que cero\")\n",
        "  else:\n",
        "      Factores = imprimir_factores_primos(n) \n",
        "      print(Factores)\n",
        "except[(ValueError)]:\n",
        "    print(\"El dato debe ser de tipo numérico\")\n",
        "\n",
        "\n",
        "\n",
        "\n"
      ],
      "metadata": {
        "colab": {
          "base_uri": "https://localhost:8080/"
        },
        "id": "HY92DMtUbsO1",
        "outputId": "ea1c6b78-38f0-4ba3-bd25-ebbdebd645dc"
      },
      "execution_count": null,
      "outputs": [
        {
          "output_type": "stream",
          "name": "stdout",
          "text": [
            "Ingrese un número (>0): 10000\n",
            "Factores: {1,2,4,5,8,10,16,20,25,40,50,80,100,125,200,250,400,500,625,1000,1250,2000,2500,5000,10000}\n"
          ]
        }
      ]
    },
    {
      "cell_type": "code",
      "source": [
        "import datetime\n",
        "\n",
        "def es_bisiesto(anio: int) -> bool:\n",
        "  #Determinar si es año bisiesto\n",
        "    return anio % 4 == 0 and (anio % 100 != 0 or anio % 400 == 0)\n",
        "\n",
        "def obtener_dias_del_mes(mes: int, anio: int) -> int:\n",
        "    # Abril, junio, septiembre y noviembre tienen 30\n",
        "    if mes in [4, 6, 9, 11]:\n",
        "        return 30\n",
        "    # Febrero depende de si es o no bisiesto\n",
        "    if mes == 2:\n",
        "        if es_bisiesto(anio):\n",
        "            return 29\n",
        "        else:\n",
        "            return 28\n",
        "    else:\n",
        "        # En caso contrario, tiene 31 días\n",
        "        return 31\n",
        "\n",
        "def edad(naci):\n",
        "    hoy = datetime.date.today()\n",
        "    #hoy = datetime.date(2022, 10, 9)\n",
        "    print(hoy)\n",
        "    print(naci)\n",
        "    if hoy < naci:\n",
        "        print ('error en la fecha de nacimiento')\n",
        "    else:\n",
        "        ano = naci.year\n",
        "        mes = naci.month\n",
        "        dia = naci.day\n",
        " \n",
        "        fecha = naci\n",
        "        edad = 0\n",
        "        EdadP = \"\"\n",
        "        while fecha <= hoy:\n",
        "            edad += 1\n",
        "            fecha = datetime.date(ano+edad, mes, dia)\n",
        "        EdadP = \"La edad exacta es: %s Años, \" % (edad -1)\n",
        "        if (naci.month <= hoy.month):\n",
        "          if (naci.day<=hoy.day):\n",
        "            EdadP = EdadP + \"%s Meses, \" % (hoy.month-naci.month) + \"%s Dias\" % (hoy.day - naci.day)\n",
        "            print(EdadP)\n",
        "          else: #Dia nacimiento > Dia de Hoy\n",
        "              #OBTENER DIAS DEL MES ANTERIOR ()\n",
        "              dias = obtener_dias_del_mes(hoy.month-1, hoy.year)\n",
        "              print(dias)\n",
        "              print (\"Diferencia meses\", hoy.month - naci.month)\n",
        "              if (naci.month - hoy.month) <0:\n",
        "                EdadP = EdadP + \"%s Meses1 \" % ((hoy.month - naci.month)-1) + \"%s Dias1\" % (dias-(naci.day-hoy.day))\n",
        "              else: \n",
        "                EdadP = EdadP + \"%s Meses2 \" % ((hoy.month - naci.month)) + \"%s Dias2\" % (dias-(naci.day-hoy.day))\n",
        "              print(EdadP)\n",
        "        else: #Mes nacimiento > Mes de Hoy\n",
        "          if (naci.day<=hoy.day):\n",
        "            #dias = obtener_dias_del_mes(hoy.month-1, hoy.year)\n",
        "            #print(dias)\n",
        "            #print (\"Diferencia meses\", hoy.month - naci.month)\n",
        "            EdadP = EdadP + \"%s Meses3, \" % (12-(naci.month-hoy.month)) + \"%s Dias3\" % ((hoy.day - naci.day))\n",
        "            print(EdadP)\n",
        "          else: #Dia nacimiento > Dia de Hoy  #OBTENER DIAS DEL MES ANTERIOR ()\n",
        "              dias = obtener_dias_del_mes(hoy.month-1, hoy.year)\n",
        "              #if (naci.month - hoy.month) <0:\n",
        "              #  EdadP = EdadP + \"%s Meses4 \" % (12+(hoy.month - naci.month)) + \"%s Dias4\" % (dias-(naci.day-hoy.day))\n",
        "              #else: \n",
        "              EdadP = EdadP + \"%s Meses5 \" % (12+(hoy.month - naci.month)-1) + \"%s Dias5\" % (dias-(naci.day-hoy.day))\n",
        "              print(EdadP)\n",
        "try:\n",
        "  anio=int(input(\"Año de nacimiento (yyyy): \")) \n",
        "  mes=int(input(\"Mes de nacimiento (m / mm): \")) \n",
        "  dia=int(input(\"Dia de nacimiento (d / dd): \"))\n",
        "  edad(datetime.date(anio, mes, dia))\n",
        "except:\n",
        "  print(\"Ingresar valores numéricos\")"
      ],
      "metadata": {
        "colab": {
          "base_uri": "https://localhost:8080/"
        },
        "id": "YbCBXFbBrZYm",
        "outputId": "5dabd759-dde0-4175-ed52-4240463586d4"
      },
      "execution_count": null,
      "outputs": [
        {
          "output_type": "stream",
          "name": "stdout",
          "text": [
            "Año de nacimiento: a\n",
            "Ingresar valores numéricos\n"
          ]
        }
      ]
    },
    {
      "cell_type": "code",
      "source": [
        "from datetime import datetime\n",
        "from dateutil.relativedelta import relativedelta\n",
        "\n",
        "fecha_nacimiento = datetime.strptime(\"15/4/1988\", \"%d/%m/%Y\")\n",
        "edad = relativedelta(datetime.now(), fecha_nacimiento)\n",
        "print(f\"{edad.years} años, {edad.months} meses y {edad.days} días\")"
      ],
      "metadata": {
        "colab": {
          "base_uri": "https://localhost:8080/"
        },
        "id": "oVYC0PHnv6vr",
        "outputId": "5c761f9c-6d42-46da-afb4-785aa9ca0f34"
      },
      "execution_count": null,
      "outputs": [
        {
          "output_type": "stream",
          "name": "stdout",
          "text": [
            "33 años, 10 meses y 1 días\n"
          ]
        }
      ]
    },
    {
      "cell_type": "code",
      "source": [
        "try: \n",
        "  Simbolo = str(input(\"Ingrese Simbolo para Patrón: \"))\n",
        "  Num = int(input(\"Ingrese número para generar patron: \"))\n",
        "  if Num > 0 and Num <=20: \n",
        "    Patron = \"\"\n",
        "    for i in range (1, Num+1):\n",
        "      Patron = Simbolo * i + \"     \" + (Simbolo *(Num +1 - i)) + \"    \" + (Simbolo * (Num + 1 - i)) + \"     \" + Simbolo*i\n",
        "      print(Patron)\n",
        "  else: \n",
        "     print(\"Numero mayor que 0 y menor que 20\")   \n",
        "except:\n",
        "  print(\"Ingrese símbolo tipo caracter y número tipo entero\") "
      ],
      "metadata": {
        "colab": {
          "base_uri": "https://localhost:8080/"
        },
        "id": "Yp1_6LnWthKY",
        "outputId": "64975456-e43f-4851-b65e-7fb03fbf2136"
      },
      "execution_count": 1,
      "outputs": [
        {
          "output_type": "stream",
          "name": "stdout",
          "text": [
            "Ingrese Simbolo para Patrón: *\n",
            "Ingrese número para generar patron: 10\n",
            "*     **********    **********     *\n",
            "**     *********    *********     **\n",
            "***     ********    ********     ***\n",
            "****     *******    *******     ****\n",
            "*****     ******    ******     *****\n",
            "******     *****    *****     ******\n",
            "*******     ****    ****     *******\n",
            "********     ***    ***     ********\n",
            "*********     **    **     *********\n",
            "**********     *    *     **********\n"
          ]
        }
      ]
    }
  ]
}